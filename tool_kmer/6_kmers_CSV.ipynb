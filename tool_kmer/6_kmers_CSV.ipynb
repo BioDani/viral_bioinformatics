{
 "cells": [
  {
   "cell_type": "code",
   "execution_count": null,
   "metadata": {},
   "outputs": [],
   "source": [
    "import csv\n",
    "def read_csv(path):\n",
    "    with open(path ,'r') as csvfile:\n",
    "        reader = csv.reader(csvfile, delimiter=',')\n",
    "        header = next(reader)\n",
    "\n",
    "        data = []\n",
    "        for row in reader:\n",
    "            iterable = zip(header,row)\n",
    "            data.append(dict(iterable)) \n",
    "    return(data)"
   ]
  },
  {
   "cell_type": "code",
   "execution_count": 7,
   "metadata": {},
   "outputs": [
    {
     "name": "stdout",
     "output_type": "stream",
     "text": [
      "29a34704-07ba-4a4c-bf04-e9a69e8b304b\n",
      "ba2f5af5-519c-4328-87e2-ce11cdd908b6\n",
      "bf728eb9-6fb3-4c1f-96fd-a11489dcae6f\n",
      "b2c39df0-d9ab-40cc-8965-050bae96d68b\n",
      "fa50c44c-66ed-4fab-bdfe-26fac0c0d8cb\n"
     ]
    }
   ],
   "source": [
    "import csv\n",
    "with open('./test.csv','r') as csvfile:\n",
    "    header = next(csvfile)\n",
    "    for i in csvfile:\n",
    "        print(i.split(';;;')[0])"
   ]
  },
  {
   "cell_type": "code",
   "execution_count": 2,
   "metadata": {},
   "outputs": [
    {
     "data": {
      "text/plain": [
       "['AA', 'AC', 'AG', 'AT', 'CA', 'CC', 'CG', 'GA', 'GC', 'TA']"
      ]
     },
     "execution_count": 2,
     "metadata": {},
     "output_type": "execute_result"
    }
   ],
   "source": [
    "import kmer\n",
    "\n",
    "canonical = kmer.get_canonical_kmers(2)\n",
    "canonical"
   ]
  },
  {
   "cell_type": "code",
   "execution_count": 3,
   "metadata": {},
   "outputs": [
    {
     "data": {
      "text/plain": [
       "'AA;;;AC;;;AG;;;AT;;;CA;;;CC;;;CG;;;GA;;;GC;;;TA'"
      ]
     },
     "execution_count": 3,
     "metadata": {},
     "output_type": "execute_result"
    }
   ],
   "source": [
    "new = \";;;\".join(canonical)\n",
    "new"
   ]
  },
  {
   "cell_type": "code",
   "execution_count": 48,
   "metadata": {},
   "outputs": [],
   "source": [
    "import kmer\n",
    "import kmer_counter\n",
    "\n",
    "k = 2\n",
    "path_csvfile = './test.csv' \n",
    "with open( path_csvfile,'r') as csvfile:\n",
    "    new_path = path_csvfile.replace(\".csv\",'_'+str(k)+'mer.csv')\n",
    "    with open(new_path, 'a+') as newfile:\n",
    "        header = next(csvfile).replace('\\n','') +';;;'+ \";;;\".join(kmer.get_canonical_kmers(k))+'\\n'\n",
    "        newfile.write(header)\n",
    "        for i in csvfile:\n",
    "            i = i.replace('\\n','')\n",
    "            seq = i.split(';;;')[2]\n",
    "            values = list(kmer_counter.get_kmer_count(seq,k).values())\n",
    "            values = ';;;'.join(str(numero) for numero in values)\n",
    "            newfile.write(i+';;;'+values+'\\n')"
   ]
  },
  {
   "attachments": {},
   "cell_type": "markdown",
   "metadata": {},
   "source": [
    "definir como función"
   ]
  },
  {
   "cell_type": "code",
   "execution_count": 4,
   "metadata": {},
   "outputs": [],
   "source": [
    "import kmer\n",
    "import kmer_counter\n",
    "\n",
    "def get_kmer_from_csv(path_csvfile,k):\n",
    "    with open( path_csvfile,'r') as csvfile:\n",
    "        new_path = path_csvfile.replace(\".csv\",'_'+str(k)+'mer.csv')\n",
    "        with open(new_path, 'a+') as newfile:\n",
    "            header = next(csvfile).replace('\\n','') +';;;'+ \";;;\".join(kmer.get_canonical_kmers(k))+'\\n'\n",
    "            newfile.write(header)\n",
    "            for i in csvfile:\n",
    "                i = i.replace('\\n','')\n",
    "                seq = i.split(';;;')[2]\n",
    "                values = list(kmer_counter.get_kmer_count(seq,k).values())\n",
    "                values = ';;;'.join(str(numero) for numero in values)\n",
    "                newfile.write(i+';;;'+values+'\\n')"
   ]
  },
  {
   "cell_type": "code",
   "execution_count": 5,
   "metadata": {},
   "outputs": [],
   "source": [
    "get_kmer_from_csv('./test.csv',4)"
   ]
  },
  {
   "attachments": {},
   "cell_type": "markdown",
   "metadata": {},
   "source": [
    "# Does it work as a module?"
   ]
  },
  {
   "cell_type": "code",
   "execution_count": 2,
   "metadata": {},
   "outputs": [],
   "source": [
    "import csv_with_kmer"
   ]
  },
  {
   "cell_type": "code",
   "execution_count": 3,
   "metadata": {},
   "outputs": [],
   "source": [
    "csv_with_kmer.get_kmer_from_csv('./example/test.csv',3)"
   ]
  },
  {
   "cell_type": "code",
   "execution_count": 5,
   "metadata": {},
   "outputs": [],
   "source": [
    "import gkmer"
   ]
  },
  {
   "cell_type": "code",
   "execution_count": 4,
   "metadata": {},
   "outputs": [],
   "source": [
    "gkmer.get_kmer_from_csv('./example/test.csv',3)"
   ]
  },
  {
   "cell_type": "code",
   "execution_count": 7,
   "metadata": {},
   "outputs": [],
   "source": [
    "gkmer.get_kmer_from_csv(\"./prueba/sequence.csv\",3)"
   ]
  }
 ],
 "metadata": {
  "kernelspec": {
   "display_name": "Python 3",
   "language": "python",
   "name": "python3"
  },
  "language_info": {
   "codemirror_mode": {
    "name": "ipython",
    "version": 3
   },
   "file_extension": ".py",
   "mimetype": "text/x-python",
   "name": "python",
   "nbconvert_exporter": "python",
   "pygments_lexer": "ipython3",
   "version": "3.9.6"
  },
  "orig_nbformat": 4
 },
 "nbformat": 4,
 "nbformat_minor": 2
}
