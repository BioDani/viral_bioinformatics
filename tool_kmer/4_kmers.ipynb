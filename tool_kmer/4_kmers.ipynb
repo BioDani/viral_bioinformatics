{
 "cells": [
  {
   "attachments": {},
   "cell_type": "markdown",
   "metadata": {},
   "source": [
    "https://www.ncbi.nlm.nih.gov/pmc/articles/PMC3166945/"
   ]
  },
  {
   "cell_type": "code",
   "execution_count": 4,
   "metadata": {},
   "outputs": [],
   "source": [
    "bases = ['A','C','G','T']"
   ]
  },
  {
   "cell_type": "code",
   "execution_count": 1,
   "metadata": {},
   "outputs": [],
   "source": [
    "import itertools\n",
    "import reverse_complement"
   ]
  },
  {
   "cell_type": "code",
   "execution_count": 2,
   "metadata": {},
   "outputs": [
    {
     "data": {
      "text/plain": [
       "'AAA'"
      ]
     },
     "execution_count": 2,
     "metadata": {},
     "output_type": "execute_result"
    }
   ],
   "source": [
    "reverse_complement.generate_reverse_complement('TTT')"
   ]
  },
  {
   "cell_type": "code",
   "execution_count": 5,
   "metadata": {},
   "outputs": [
    {
     "name": "stdout",
     "output_type": "stream",
     "text": [
      "['AA', 'AC', 'AG', 'AT', 'CA', 'CC', 'CG', 'CT', 'GA', 'GC', 'GG', 'GT', 'TA', 'TC', 'TG', 'TT']\n",
      "16\n"
     ]
    }
   ],
   "source": [
    "new_list = []\n",
    "unique= []\n",
    "temporal = []\n",
    "for i in list(itertools.product(bases, repeat= 2)):\n",
    "    new_list.append(''.join(i))\n",
    "print(new_list)\n",
    "print(len(new_list))"
   ]
  },
  {
   "cell_type": "code",
   "execution_count": 6,
   "metadata": {},
   "outputs": [
    {
     "name": "stdout",
     "output_type": "stream",
     "text": [
      "['AA', 'AC', 'AG', 'AT', 'CA', 'CC', 'CG', 'GA', 'GC', 'TA']\n",
      "10\n"
     ]
    }
   ],
   "source": [
    "unique= []\n",
    "temporal = []\n",
    "\n",
    "for i in new_list:\n",
    "    temporal = []\n",
    "    temporal.append(i)\n",
    "    temporal.append(reverse_complement.generate_reverse_complement(i))\n",
    "    temporal = sorted(temporal)\n",
    "    if temporal[0] not in unique:\n",
    "        unique.append(temporal[0])\n",
    "    temporal = []\n",
    "\n",
    "print(unique)\n",
    "print(len(unique))\n"
   ]
  },
  {
   "attachments": {},
   "cell_type": "markdown",
   "metadata": {},
   "source": [
    "# Generating n-Kmers"
   ]
  },
  {
   "cell_type": "code",
   "execution_count": 10,
   "metadata": {},
   "outputs": [],
   "source": [
    "import itertools\n",
    "import reverse_complement\n",
    "\n",
    "def get_all_kmers(k):\n",
    "    bases = ['A','C','G','T']\n",
    "    all_kmer_list = [ ''.join(i) for i in list(itertools.product(bases, repeat= k))]\n",
    "    return all_kmer_list"
   ]
  },
  {
   "cell_type": "code",
   "execution_count": 11,
   "metadata": {},
   "outputs": [],
   "source": [
    "def get_canonical_kmers(k):\n",
    "    canonical_kmer_list = []\n",
    "\n",
    "    for i in get_all_kmer(k):\n",
    "        temporal = []\n",
    "        temporal.append(i)\n",
    "        temporal.append(reverse_complement.generate_reverse_complement(i))\n",
    "        canonical_kmer = sorted(temporal)[0]\n",
    "        if canonical_kmer not in canonical_kmer_list:\n",
    "            canonical_kmer_list.append(canonical_kmer)\n",
    "    return canonical_kmer_list"
   ]
  },
  {
   "cell_type": "code",
   "execution_count": 13,
   "metadata": {},
   "outputs": [
    {
     "data": {
      "text/plain": [
       "['AA', 'AC', 'AG', 'AT', 'CA', 'CC', 'CG', 'GA', 'GC', 'TA']"
      ]
     },
     "execution_count": 13,
     "metadata": {},
     "output_type": "execute_result"
    }
   ],
   "source": [
    "get_canonical_kmers(2)\n"
   ]
  },
  {
   "attachments": {},
   "cell_type": "markdown",
   "metadata": {},
   "source": [
    "# Does it work like a module ?"
   ]
  },
  {
   "cell_type": "code",
   "execution_count": 1,
   "metadata": {},
   "outputs": [],
   "source": [
    "import kmer"
   ]
  },
  {
   "cell_type": "code",
   "execution_count": 2,
   "metadata": {},
   "outputs": [
    {
     "data": {
      "text/plain": [
       "['AA', 'AC', 'AG', 'AT', 'CA', 'CC', 'CG', 'GA', 'GC', 'TA']"
      ]
     },
     "execution_count": 2,
     "metadata": {},
     "output_type": "execute_result"
    }
   ],
   "source": [
    "kmer.get_canonical_kmers(2)"
   ]
  }
 ],
 "metadata": {
  "kernelspec": {
   "display_name": "Python 3",
   "language": "python",
   "name": "python3"
  },
  "language_info": {
   "codemirror_mode": {
    "name": "ipython",
    "version": 3
   },
   "file_extension": ".py",
   "mimetype": "text/x-python",
   "name": "python",
   "nbconvert_exporter": "python",
   "pygments_lexer": "ipython3",
   "version": "3.9.6"
  },
  "orig_nbformat": 4
 },
 "nbformat": 4,
 "nbformat_minor": 2
}
