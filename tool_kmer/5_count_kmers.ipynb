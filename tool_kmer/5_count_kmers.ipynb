{
 "cells": [
  {
   "attachments": {},
   "cell_type": "markdown",
   "metadata": {},
   "source": [
    "# How can i count the k-mers in a DNA sequence?"
   ]
  },
  {
   "cell_type": "code",
   "execution_count": 76,
   "metadata": {},
   "outputs": [],
   "source": [
    "import kmer\n",
    "import reverse_complement\n",
    "import math"
   ]
  },
  {
   "cell_type": "code",
   "execution_count": 2,
   "metadata": {},
   "outputs": [],
   "source": [
    "counter = { i: 0 for i in kmer.get_canonical_kmers(2)}"
   ]
  },
  {
   "cell_type": "code",
   "execution_count": 28,
   "metadata": {},
   "outputs": [],
   "source": [
    "seq = 'AACAGATCACCGAGCTA'"
   ]
  },
  {
   "cell_type": "code",
   "execution_count": null,
   "metadata": {},
   "outputs": [],
   "source": [
    "k = 2\n",
    "for i in range(len(seq)):\n",
    "    print(seq[i:i+k])"
   ]
  },
  {
   "cell_type": "code",
   "execution_count": 49,
   "metadata": {},
   "outputs": [
    {
     "data": {
      "text/plain": [
       "{'AA': 1,\n",
       " 'AC': 2,\n",
       " 'AG': 3,\n",
       " 'AT': 1,\n",
       " 'CA': 2,\n",
       " 'CC': 1,\n",
       " 'CG': 1,\n",
       " 'GA': 3,\n",
       " 'GC': 1,\n",
       " 'TA': 1}"
      ]
     },
     "execution_count": 49,
     "metadata": {},
     "output_type": "execute_result"
    }
   ],
   "source": [
    "k = 2\n",
    "total = 0 \n",
    "counter = { i: 0 for i in kmer.get_canonical_kmers(k)}\n",
    "\n",
    "for i in range(len(seq)):\n",
    "    if len(seq[i:i+k]) == k:\n",
    "        total += 1\n",
    "        temporal = []\n",
    "        temporal.append(seq[i:i+k])\n",
    "        temporal.append(reverse_complement.generate_reverse_complement(seq[i:i+k]))\n",
    "        canonical = sorted(temporal)[0]\n",
    "        counter[canonical] += 1\n",
    "\n",
    "counter = { canonical : counter[canonical] for canonical in counter}\n",
    "counter\n"
   ]
  },
  {
   "cell_type": "code",
   "execution_count": 44,
   "metadata": {},
   "outputs": [
    {
     "data": {
      "text/plain": [
       "{'AA': 0.0625,\n",
       " 'AC': 0.125,\n",
       " 'AG': 0.1875,\n",
       " 'AT': 0.0625,\n",
       " 'CA': 0.125,\n",
       " 'CC': 0.0625,\n",
       " 'CG': 0.0625,\n",
       " 'GA': 0.1875,\n",
       " 'GC': 0.0625,\n",
       " 'TA': 0.0625}"
      ]
     },
     "execution_count": 44,
     "metadata": {},
     "output_type": "execute_result"
    }
   ],
   "source": [
    "counter = { canonical : counter[canonical]/total for canonical in counter}\n",
    "counter"
   ]
  },
  {
   "attachments": {},
   "cell_type": "markdown",
   "metadata": {},
   "source": [
    "# Define like function"
   ]
  },
  {
   "cell_type": "code",
   "execution_count": 84,
   "metadata": {},
   "outputs": [],
   "source": [
    "def get_kmer_count(seq,k):\n",
    "    seq  = seq.upper()\n",
    "    total = 0 \n",
    "    counter = { i: 0 for i in kmer.get_canonical_kmers(k)}\n",
    "\n",
    "    for i in range(len(seq)):\n",
    "        if len(seq[i:i+k]) == k:\n",
    "            total += 1\n",
    "            temporal = []\n",
    "            temporal.append(seq[i:i+k])\n",
    "            temporal.append(reverse_complement.generate_reverse_complement(seq[i:i+k]))\n",
    "            canonical = sorted(temporal)[0]\n",
    "            counter[canonical] += 1\n",
    "\n",
    "    counter = { canonical : round(counter[canonical]/total,3) for canonical in counter}\n",
    "    return counter"
   ]
  },
  {
   "cell_type": "code",
   "execution_count": 91,
   "metadata": {},
   "outputs": [
    {
     "data": {
      "text/plain": [
       "{'AA': 0.143,\n",
       " 'AC': 0.286,\n",
       " 'AG': 0.0,\n",
       " 'AT': 0.0,\n",
       " 'CA': 0.286,\n",
       " 'CC': 0.0,\n",
       " 'CG': 0.143,\n",
       " 'GA': 0.0,\n",
       " 'GC': 0.143,\n",
       " 'TA': 0.0}"
      ]
     },
     "execution_count": 91,
     "metadata": {},
     "output_type": "execute_result"
    }
   ],
   "source": [
    "get_kmer_count('acgttgca',2)"
   ]
  },
  {
   "attachments": {},
   "cell_type": "markdown",
   "metadata": {},
   "source": []
  },
  {
   "cell_type": "code",
   "execution_count": 89,
   "metadata": {},
   "outputs": [
    {
     "data": {
      "text/plain": [
       "['AA', 'AC', 'AG', 'AT', 'CA', 'CC', 'CG', 'GA', 'GC', 'TA']"
      ]
     },
     "execution_count": 89,
     "metadata": {},
     "output_type": "execute_result"
    }
   ],
   "source": [
    "kmer.get_canonical_kmers(2)"
   ]
  },
  {
   "cell_type": "code",
   "execution_count": 57,
   "metadata": {},
   "outputs": [
    {
     "data": {
      "text/plain": [
       "['A', 'C']"
      ]
     },
     "execution_count": 57,
     "metadata": {},
     "output_type": "execute_result"
    }
   ],
   "source": [
    "kmer.get_canonical_kmers(1)"
   ]
  },
  {
   "cell_type": "code",
   "execution_count": 75,
   "metadata": {},
   "outputs": [
    {
     "data": {
      "text/plain": [
       "'2.67'"
      ]
     },
     "execution_count": 75,
     "metadata": {},
     "output_type": "execute_result"
    }
   ],
   "source": [
    "\"{:0.2f}\".format(2.675)"
   ]
  },
  {
   "attachments": {},
   "cell_type": "markdown",
   "metadata": {},
   "source": [
    "# Does it work like a module? "
   ]
  },
  {
   "cell_type": "code",
   "execution_count": 1,
   "metadata": {},
   "outputs": [],
   "source": [
    "import kmer_counter"
   ]
  },
  {
   "cell_type": "code",
   "execution_count": 3,
   "metadata": {},
   "outputs": [],
   "source": [
    "import kmer_counter\n",
    "\n",
    "counter = kmer_counter.get_kmer_count('acgctag',2)"
   ]
  },
  {
   "cell_type": "code",
   "execution_count": 5,
   "metadata": {},
   "outputs": [
    {
     "data": {
      "text/plain": [
       "[0.0, 0.167, 0.333, 0.0, 0.0, 0.0, 0.167, 0.0, 0.167, 0.167]"
      ]
     },
     "execution_count": 5,
     "metadata": {},
     "output_type": "execute_result"
    }
   ],
   "source": [
    "list(counter.values())"
   ]
  },
  {
   "cell_type": "code",
   "execution_count": null,
   "metadata": {},
   "outputs": [],
   "source": []
  }
 ],
 "metadata": {
  "kernelspec": {
   "display_name": "Python 3",
   "language": "python",
   "name": "python3"
  },
  "language_info": {
   "codemirror_mode": {
    "name": "ipython",
    "version": 3
   },
   "file_extension": ".py",
   "mimetype": "text/x-python",
   "name": "python",
   "nbconvert_exporter": "python",
   "pygments_lexer": "ipython3",
   "version": "3.9.6"
  },
  "orig_nbformat": 4
 },
 "nbformat": 4,
 "nbformat_minor": 2
}
