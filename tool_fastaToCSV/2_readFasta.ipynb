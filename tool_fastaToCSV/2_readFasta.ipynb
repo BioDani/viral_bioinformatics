{
 "cells": [
  {
   "attachments": {},
   "cell_type": "markdown",
   "metadata": {},
   "source": [
    "# Read a fasta file\n",
    "\n",
    "Read a fasta file that contain one o more sequences of DNA and transform to CSV file.\n",
    "\n",
    "This file will have as sep ;;;;"
   ]
  },
  {
   "cell_type": "code",
   "execution_count": 5,
   "metadata": {},
   "outputs": [],
   "source": [
    "import uuid\n",
    "\n",
    "sequences = {}\n",
    "\n",
    "path = './sequence.fasta'\n",
    "with open( path, 'r' ) as fasta:\n",
    "    for line in fasta:\n",
    "        flag = 1\n",
    "        if '>' in line:\n",
    "            flag = 0\n",
    "            id = str(uuid.uuid4())\n",
    "            name_seq = line.replace('>','').replace('\\n','')\n",
    "            seq = ''\n",
    "\n",
    "            sequences[id]={'name_seq':name_seq,'seq':seq}\n",
    "\n",
    "        if (flag == 1) and ('>' not in line): \n",
    "            seq += line.replace('\\n','').replace(' ','')\n",
    "            sequences[id]={'name_seq':name_seq,'seq':seq}\n",
    "\n",
    "fasta_path = path.replace('.fasta','.csv')\n",
    "\n",
    "with open( fasta_path, 'a') as newfile:\n",
    "    newfile.write('id;;;name_seq;;;seq\\n')\n",
    "    for i in sequences:\n",
    "        newfile.write(str(i)+';;;'+sequences[i]['name_seq']+';;;;'+sequences[i]['seq']+'\\n')\n"
   ]
  },
  {
   "cell_type": "code",
   "execution_count": 32,
   "metadata": {},
   "outputs": [
    {
     "name": "stdout",
     "output_type": "stream",
     "text": [
      "<function uuid4 at 0x1020060d0>\n"
     ]
    }
   ],
   "source": [
    "for i in sequences:\n",
    "    print(str(i))"
   ]
  },
  {
   "cell_type": "code",
   "execution_count": 6,
   "metadata": {},
   "outputs": [],
   "source": [
    "def create_fasta_to_csv(path):\n",
    "    sequences = {}\n",
    "    with open( path, 'r' ) as fasta:\n",
    "        for line in fasta:\n",
    "            flag = 1\n",
    "            if '>' in line:\n",
    "                flag = 0\n",
    "                id = str(uuid.uuid4())\n",
    "                name_seq = line.replace('>','').replace('\\n','')\n",
    "                seq = ''\n",
    "\n",
    "                sequences[id]={'name_seq':name_seq,'seq':seq}\n",
    "\n",
    "            if (flag == 1) and ('>' not in line): \n",
    "                seq += line.replace('\\n','').replace(' ','')\n",
    "                sequences[id]={'name_seq':name_seq,'seq':seq}\n",
    "\n",
    "    fasta_path = path.replace('.fasta','.csv')\n",
    "\n",
    "    with open( fasta_path, 'a') as newfile:\n",
    "        for i in sequences:\n",
    "            newfile.write(str(i)+';;;'+sequences[i]['name_seq']+';;;;'+sequences[i]['seq']+'\\n')\n",
    "        print('File generated')"
   ]
  },
  {
   "cell_type": "code",
   "execution_count": 7,
   "metadata": {},
   "outputs": [
    {
     "name": "stdout",
     "output_type": "stream",
     "text": [
      "File generated\n"
     ]
    }
   ],
   "source": [
    "create_fasta_to_csv('./test.fasta')"
   ]
  },
  {
   "attachments": {},
   "cell_type": "markdown",
   "metadata": {},
   "source": [
    "# Does it work like a module? "
   ]
  },
  {
   "cell_type": "code",
   "execution_count": 1,
   "metadata": {},
   "outputs": [],
   "source": [
    "import fasta_to_csv"
   ]
  },
  {
   "cell_type": "code",
   "execution_count": 2,
   "metadata": {},
   "outputs": [
    {
     "name": "stdout",
     "output_type": "stream",
     "text": [
      "Status: Completed.\n"
     ]
    }
   ],
   "source": [
    "import fasta_to_csv\n",
    "\n",
    "fasta_to_csv.create_fasta_to_csv('./example/test.fasta')"
   ]
  },
  {
   "cell_type": "code",
   "execution_count": 3,
   "metadata": {},
   "outputs": [
    {
     "name": "stdout",
     "output_type": "stream",
     "text": [
      "Status: Completed.\n"
     ]
    }
   ],
   "source": [
    "fasta_to_csv.create_fasta_to_csv('../tool_gbToFasta/virus/datosgenerados/sequence.fasta')"
   ]
  },
  {
   "cell_type": "code",
   "execution_count": 2,
   "metadata": {},
   "outputs": [
    {
     "name": "stdout",
     "output_type": "stream",
     "text": [
      "Status: Completed.\n"
     ]
    }
   ],
   "source": [
    "fasta_to_csv.create_fasta_to_csv('../tool_fastaToCSV/prueba/sequence.fasta')"
   ]
  }
 ],
 "metadata": {
  "kernelspec": {
   "display_name": "Python 3",
   "language": "python",
   "name": "python3"
  },
  "language_info": {
   "codemirror_mode": {
    "name": "ipython",
    "version": 3
   },
   "file_extension": ".py",
   "mimetype": "text/x-python",
   "name": "python",
   "nbconvert_exporter": "python",
   "pygments_lexer": "ipython3",
   "version": "3.9.6"
  },
  "orig_nbformat": 4
 },
 "nbformat": 4,
 "nbformat_minor": 2
}
